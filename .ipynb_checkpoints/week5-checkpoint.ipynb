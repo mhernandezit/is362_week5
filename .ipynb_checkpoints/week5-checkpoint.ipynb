{
 "cells": [
  {
   "cell_type": "markdown",
   "metadata": {},
   "source": [
    "# IS362 Week 5 assignment - Airport Analysis\n",
    "By Michael Hernandez"
   ]
  },
  {
   "cell_type": "markdown",
   "metadata": {},
   "source": [
    "There are three questions I am interested in solving in this notebook:\n",
    "1. What is the northernmost airport in the United States?\n",
    "2. What is the easternmost airport in the United States?\n",
    "3. On February 12th, 2013, which New York area airport had the windiest weather?"
   ]
  },
  {
   "cell_type": "markdown",
   "metadata": {},
   "source": [
    "Let's start by loading our data from https://github.com/hadley/nycflights13/blob/master/data-raw/airports.csv.  This CSV contains a list of airports, and conveniently enough, has the latitude and longitude of each airport.\n",
    "The first thing we notice is that the github.com link does not work when loading a file in, we need to get a link to the raw csv data file to get our data source loaded:"
   ]
  },
  {
   "cell_type": "code",
   "execution_count": null,
   "metadata": {},
   "outputs": [],
   "source": [
    "import pandas as pd\n",
    "\n",
    "URL = 'https://raw.githubusercontent.com/hadley/nycflights13/master/data-raw/airports.csv'\n",
    "\n",
    "airport_data = pd.read_csv(URL)"
   ]
  },
  {
   "cell_type": "markdown",
   "metadata": {},
   "source": [
    "Let's make sure that worked - here's the listing of the dataframe:"
   ]
  },
  {
   "cell_type": "code",
   "execution_count": null,
   "metadata": {},
   "outputs": [],
   "source": [
    "airport_data"
   ]
  },
  {
   "cell_type": "markdown",
   "metadata": {},
   "source": [
    "# 1. What is the Northern-most airport in America.  \n",
    "\n",
    "The query would need to search for the maximum latitude value for any rows which have America in their tzone column.  Let's break it down into two parts.\n",
    "\n",
    "- First let's build a dataframe with airports that have America in the Time Zone field:"
   ]
  },
  {
   "cell_type": "code",
   "execution_count": 2,
   "metadata": {},
   "outputs": [
    {
     "ename": "NameError",
     "evalue": "name 'airport_data' is not defined",
     "output_type": "error",
     "traceback": [
      "\u001b[1;31m---------------------------------------------------------------------------\u001b[0m",
      "\u001b[1;31mNameError\u001b[0m                                 Traceback (most recent call last)",
      "\u001b[1;32m<ipython-input-2-4d483805ce58>\u001b[0m in \u001b[0;36m<module>\u001b[1;34m\u001b[0m\n\u001b[1;32m----> 1\u001b[1;33m \u001b[0mus_airport_data\u001b[0m \u001b[1;33m=\u001b[0m \u001b[0mairport_data\u001b[0m\u001b[1;33m[\u001b[0m\u001b[0mairport_data\u001b[0m\u001b[1;33m[\u001b[0m\u001b[1;34m'tzone'\u001b[0m\u001b[1;33m]\u001b[0m\u001b[1;33m.\u001b[0m\u001b[0mstr\u001b[0m\u001b[1;33m.\u001b[0m\u001b[0mcontains\u001b[0m\u001b[1;33m(\u001b[0m\u001b[1;34m\"America\"\u001b[0m\u001b[1;33m)\u001b[0m\u001b[1;33m]\u001b[0m\u001b[1;33m\u001b[0m\u001b[1;33m\u001b[0m\u001b[0m\n\u001b[0m",
      "\u001b[1;31mNameError\u001b[0m: name 'airport_data' is not defined"
     ]
    }
   ],
   "source": [
    "us_airport_data = airport_data[airport_data['tzone'].str.contains(\"America\")]"
   ]
  },
  {
   "cell_type": "markdown",
   "metadata": {},
   "source": [
    "- Now we can query for the row with the max latitude, in our case it is Wiley Post Will Rogers Memorial in Anchorage, Alaska"
   ]
  },
  {
   "cell_type": "code",
   "execution_count": null,
   "metadata": {},
   "outputs": [],
   "source": [
    "max_lat = us_airport_data.loc[us_airport_data['lat'].idxmax()]\n",
    "max_lat"
   ]
  },
  {
   "cell_type": "code",
   "execution_count": null,
   "metadata": {},
   "outputs": [],
   "source": [
    "#max_lat_coordinates = (max_lat['lat'], max_lat['lon'])\n",
    "new_york_coordinahttp://localhost:8888/notebooks/OneDrive%20-%20CUNY%20School%20of%20Professional%20Studies/is362_week5/week5.ipynb#tes = (40.75, -74.00)\n",
    "#gmaps.figure(center=max_lat_coordinates, zoom_level=12)"
   ]
  },
  {
   "cell_type": "code",
   "execution_count": null,
   "metadata": {},
   "outputs": [],
   "source": [
    "Map(center=[40.75, -74.00], zoom_level=12)"
   ]
  },
  {
   "cell_type": "markdown",
   "metadata": {},
   "source": [
    "# 2. What is the easternmost airport in the United States?\n",
    "\n",
    "We can use our us_airport_data data frame for this question - we are looking for the airport which has the maximum longitude."
   ]
  },
  {
   "cell_type": "code",
   "execution_count": null,
   "metadata": {},
   "outputs": [],
   "source": [
    "us_airport_data.loc[us_airport_data['lon'].idxmax()]"
   ]
  },
  {
   "cell_type": "markdown",
   "metadata": {},
   "source": [
    "- That's the eastern most airport by longitude, but it does not fit with the questions, so to get the eastern most airport in the continental US, we need to look for the minimum absolute value of longitude:"
   ]
  },
  {
   "cell_type": "code",
   "execution_count": null,
   "metadata": {},
   "outputs": [],
   "source": [
    "us_airport_data.loc[us_airport_data['lon'].abs().idxmin()]"
   ]
  },
  {
   "cell_type": "markdown",
   "metadata": {},
   "source": [
    "# 3. On February 12th, 2013, which New York area airport had the windiest weather?\n",
    "For this question, we will need to load up the weather csv file to do our analysis"
   ]
  },
  {
   "cell_type": "code",
   "execution_count": null,
   "metadata": {},
   "outputs": [],
   "source": [
    "weather_data = pd.read_csv('https://raw.githubusercontent.com/hadley/nycflights13/master/data-raw/weather.csv')"
   ]
  },
  {
   "cell_type": "markdown",
   "metadata": {},
   "source": [
    "I've built out three successive queries to start breaking down the data\n",
    "1. The first query limits the dataframe to airports in the NY region\n",
    "2. The second query limits the dataframe to February 12th\n",
    "3. The third query searches for the highest windspeed in the dataframe we created from the queries"
   ]
  },
  {
   "cell_type": "code",
   "execution_count": null,
   "metadata": {},
   "outputs": [],
   "source": [
    "nyc_weather_data = weather_data[weather_data['origin'].str.contains(\"LGA\")|weather_data['origin'].str.contains(\"JFK\")]"
   ]
  },
  {
   "cell_type": "code",
   "execution_count": null,
   "metadata": {},
   "outputs": [],
   "source": [
    "target_data = nyc_weather_data.loc[(nyc_weather_data['month'] == 2) & (nyc_weather_data['day'] == 12)]"
   ]
  },
  {
   "cell_type": "code",
   "execution_count": null,
   "metadata": {},
   "outputs": [],
   "source": [
    "target_data.loc[target_data['wind_speed'].idxmax()]"
   ]
  },
  {
   "cell_type": "markdown",
   "metadata": {},
   "source": [
    "# LGA had the highest wind speed on February 12th, 2013."
   ]
  }
 ],
 "metadata": {
  "celltoolbar": "Raw Cell Format",
  "kernelspec": {
   "display_name": "Python 3",
   "language": "python",
   "name": "python3"
  },
  "language_info": {
   "codemirror_mode": {
    "name": "ipython",
    "version": 3
   },
   "file_extension": ".py",
   "mimetype": "text/x-python",
   "name": "python",
   "nbconvert_exporter": "python",
   "pygments_lexer": "ipython3",
   "version": "3.7.1"
  }
 },
 "nbformat": 4,
 "nbformat_minor": 2
}
