{
 "cells": [
  {
   "cell_type": "markdown",
   "metadata": {},
   "source": [
    "# IS362 Week 5 assignment - Airport Analysis\n",
    "By Michael Hernandez"
   ]
  },
  {
   "cell_type": "markdown",
   "metadata": {},
   "source": [
    "There are three questions I am interested in solving in this notebook:\n",
    "1. What is the northernmost airport in the United States?\n",
    "2. What is the easternmost airport in the United States?\n",
    "3. On February 12th, 2013, which New York area airport had the windiest weather?"
   ]
  },
  {
   "cell_type": "markdown",
   "metadata": {},
   "source": [
    "Let's start by loading our data from https://github.com/hadley/nycflights13/blob/master/data-raw/airports.csv.  This CSV contains a list of airports, and conveniently enough, has the latitude and longitude of each airport.\n",
    "The first thing we notice is that the github.com link does not work when loading a file in, we need to get a link to the raw csv data file to get our data source loaded:"
   ]
  },
  {
   "cell_type": "code",
   "execution_count": 1,
   "metadata": {},
   "outputs": [],
   "source": [
    "import pandas as pd\n",
    "\n",
    "URL = 'https://raw.githubusercontent.com/hadley/nycflights13/master/data-raw/airports.csv'\n",
    "\n",
    "airport_data = pd.read_csv(URL)"
   ]
  },
  {
   "cell_type": "markdown",
   "metadata": {},
   "source": [
    "# 1. What is the Northern-most airport in America.  \n",
    "\n",
    "The query would need to search for the maximum latitude value for any rows which have America in their tzone column.  Let's break it down into two parts.\n",
    "\n",
    "- First let's build a dataframe with airports that have America in the Time Zone field:"
   ]
  },
  {
   "cell_type": "code",
   "execution_count": 2,
   "metadata": {},
   "outputs": [],
   "source": [
    "us_airport_data = airport_data[airport_data['tzone'].str.contains(\"America\")]"
   ]
  },
  {
   "cell_type": "markdown",
   "metadata": {},
   "source": [
    "- Now we can query for the row with the max latitude"
   ]
  },
  {
   "cell_type": "code",
   "execution_count": 3,
   "metadata": {},
   "outputs": [
    {
     "data": {
      "text/plain": [
       "faa                             BRW\n",
       "name     Wiley Post Will Rogers Mem\n",
       "lat                         71.2854\n",
       "lon                        -156.766\n",
       "alt                              44\n",
       "tz                               -9\n",
       "dst                               A\n",
       "tzone             America/Anchorage\n",
       "Name: 230, dtype: object"
      ]
     },
     "execution_count": 3,
     "metadata": {},
     "output_type": "execute_result"
    }
   ],
   "source": [
    "max_lat = us_airport_data.loc[us_airport_data['lat'].idxmax()]\n",
    "max_lat"
   ]
  },
  {
   "cell_type": "markdown",
   "metadata": {},
   "source": [
    "Wiley Post Will Rogers Memorial Airport in Anchorage Alaksa is the northernmost airport in America"
   ]
  },
  {
   "cell_type": "markdown",
   "metadata": {},
   "source": [
    "# 2. What is the easternmost airport in the United States?\n",
    "\n",
    "We can use our us_airport_data data frame for this question - we are looking for the airport which has the maximum longitude."
   ]
  },
  {
   "cell_type": "code",
   "execution_count": 4,
   "metadata": {},
   "outputs": [
    {
     "data": {
      "text/plain": [
       "faa                    SYA\n",
       "name          Eareckson As\n",
       "lat                52.7123\n",
       "lon                174.114\n",
       "alt                     98\n",
       "tz                      -9\n",
       "dst                      A\n",
       "tzone    America/Anchorage\n",
       "Name: 1290, dtype: object"
      ]
     },
     "execution_count": 4,
     "metadata": {},
     "output_type": "execute_result"
    }
   ],
   "source": [
    "us_airport_data.loc[us_airport_data['lon'].idxmax()]"
   ]
  },
  {
   "cell_type": "markdown",
   "metadata": {},
   "source": [
    "- That's the eastern most airport by longitude, but it does not fit with the questions, so to get the eastern most airport in the continental US, we need to look for the minimum absolute value of longitude:"
   ]
  },
  {
   "cell_type": "code",
   "execution_count": 5,
   "metadata": {},
   "outputs": [
    {
     "data": {
      "text/plain": [
       "faa                             EPM\n",
       "name     Eastport Municipal Airport\n",
       "lat                         44.9101\n",
       "lon                        -67.0127\n",
       "alt                              45\n",
       "tz                               -5\n",
       "dst                               A\n",
       "tzone              America/New_York\n",
       "Name: 444, dtype: object"
      ]
     },
     "execution_count": 5,
     "metadata": {},
     "output_type": "execute_result"
    }
   ],
   "source": [
    "us_airport_data.loc[us_airport_data['lon'].abs().idxmin()]"
   ]
  },
  {
   "cell_type": "markdown",
   "metadata": {},
   "source": [
    "EPM, or Eastport Municipal Airport in Maine is the Eastmost airport in America"
   ]
  },
  {
   "cell_type": "markdown",
   "metadata": {},
   "source": [
    "# 3. On February 12th, 2013, which New York area airport had the windiest weather?\n",
    "For this question, we will need to load up the weather csv file to do our analysis"
   ]
  },
  {
   "cell_type": "code",
   "execution_count": 6,
   "metadata": {},
   "outputs": [],
   "source": [
    "weather_data = pd.read_csv('https://raw.githubusercontent.com/hadley/nycflights13/master/data-raw/weather.csv')"
   ]
  },
  {
   "cell_type": "markdown",
   "metadata": {},
   "source": [
    "I've built out three successive queries to start breaking down the data\n",
    "1. The first query limits the dataframe to airports in the NY region\n",
    "2. The second query limits the dataframe to February 12th\n",
    "3. The third query searches for the highest windspeed in the dataframe we created from the queries"
   ]
  },
  {
   "cell_type": "code",
   "execution_count": 7,
   "metadata": {},
   "outputs": [
    {
     "data": {
      "text/plain": [
       "origin                         LGA\n",
       "year                          2013\n",
       "month                            2\n",
       "day                             12\n",
       "hour                             2\n",
       "temp                         42.98\n",
       "dewp                         26.06\n",
       "humid                        50.94\n",
       "wind_dir                       290\n",
       "wind_speed                 23.0156\n",
       "wind_gust                  31.0711\n",
       "precip                           0\n",
       "pressure                    1007.1\n",
       "visib                           10\n",
       "time_hour     2013-02-12T07:00:00Z\n",
       "Name: 18417, dtype: object"
      ]
     },
     "execution_count": 7,
     "metadata": {},
     "output_type": "execute_result"
    }
   ],
   "source": [
    "nyc_weather_data = weather_data[weather_data['origin'].str.contains(\"LGA\")|weather_data['origin'].str.contains(\"JFK\")]\n",
    "target_data = nyc_weather_data.loc[(nyc_weather_data['month'] == 2) & (nyc_weather_data['day'] == 12)]\n",
    "target_data.loc[target_data['wind_speed'].idxmax()]"
   ]
  },
  {
   "cell_type": "markdown",
   "metadata": {},
   "source": [
    "LGA had the highest wind speed on February 12th, 2013."
   ]
  }
 ],
 "metadata": {
  "celltoolbar": "Raw Cell Format",
  "kernelspec": {
   "display_name": "Python 3",
   "language": "python",
   "name": "python3"
  },
  "language_info": {
   "codemirror_mode": {
    "name": "ipython",
    "version": 3
   },
   "file_extension": ".py",
   "mimetype": "text/x-python",
   "name": "python",
   "nbconvert_exporter": "python",
   "pygments_lexer": "ipython3",
   "version": "3.7.1"
  }
 },
 "nbformat": 4,
 "nbformat_minor": 2
}
